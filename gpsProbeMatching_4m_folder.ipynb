{
 "cells": [
  {
   "cell_type": "code",
   "execution_count": 5,
   "metadata": {},
   "outputs": [],
   "source": [
    "import warnings\n",
    "warnings.filterwarnings(\"ignore\")\n",
    "from datetime import datetime \n",
    "\n",
    "import sys,os\n",
    "sys.path.append('py/') \n",
    "\n",
    "import shutil\n",
    "from functions import initialize, get_points_within_target_region, df2gdf, plot_map, check_dir, get_all_files_from_dir\n",
    "from preprocess import preprocess_data\n",
    "from map_matching import map_match_csv2gpx, map_match_csv2gpx_multithread\n",
    "from generate_route_by_pyroutelib import generate_osm_routes_main\n",
    "from config import max_threads, OUTPUT_DIR, INPUT_DIR"
   ]
  },
  {
   "cell_type": "markdown",
   "metadata": {},
   "source": [
    "- csv files from  **....path/heromiya/PHLMobilityData/**  contains many fields.\n",
    "- Interesting fields in each csv are got via: \n",
    "         cut -d ',' -f 1,2,3,4,6,7,8,9 PDP_philippines_20110101.csv >  PHL_20110101.csv\n",
    "- timestamp field is creadted by joining different fileds using **py/preprocess_raw.py** ( a copy is kept workstation ....path/bidur/PHL_raw_data/preprocess_raw.py )\n",
    "    - csv files with desired fields *(ap_id, timestamp, latitude, longitude)* are saved at : **....path/bidur/PHL_raw_data/clean_input/**\n"
   ]
  },
  {
   "cell_type": "code",
   "execution_count": null,
   "metadata": {},
   "outputs": [],
   "source": [
    "input_dir =  '....path/bidur/PHL_raw_data/clean_input/'\n",
    "backup_dir = '....path/bidur/PHL_raw_data/csv_4_mobmap/'"
   ]
  },
  {
   "cell_type": "code",
   "execution_count": 3,
   "metadata": {},
   "outputs": [
    {
     "data": {
      "text/plain": [
       "\"\\n#backup_dir = '/home/bidur/map_match_gps_data/raw_data/phl_sample/csv_4_mobmap/'\\n#input_dir = '/home/bidur/map_match_gps_data/raw_data/phl_sample/clean/'  \\n\\narr_input_csv = get_all_files_from_dir(input_dir)\\nprint(arr_input_csv)\\nfor gps_csv in arr_input_csv:\\n    \\n    print(gps_csv, 'START ', str( datetime.now() ))\\n \\n    # 1. remove old data and create necessary directories\\n    initialize()\\n\\n    # 2. ananymize ap_id column to int value ,   clip points within boundary\\n    gdf_probe_clipped, gdf_target = get_points_within_target_region (gps_csv, anonymize=True, display_plot = False)\\n    \\n\\n    # 3. Preprocess: cleaning data & applying sampling\\n    df_sample = preprocess_data()\\n    print('----3 done----')\\n    display(df_sample.head())\\n\\n    # 4. map matching with osm roads using graphhopper\\n    df_mapped_route = map_match_csv2gpx_multithread(df_sample) # multithreaded\\n    \\n    \\n    \\n    #Use this for normal execution without multi thread:\\n    #df_mapped_route = map_match_csv2gpx(df_sample)\\n    print('----4 done----')\\n    \\n        \\n    # 5. save to backup dir\\n    csv_path, csv_name = os.path.split(gps_csv)\\n    final_data_dir = backup_dir+csv_name.replace('.csv','')\\n    print(final_data_dir)\\n    check_dir(final_data_dir)# create subdir for this iteration\\n    \\n    shutil.copytree(INPUT_DIR, final_data_dir +'/input')\\n    shutil.copytree(OUTPUT_DIR, final_data_dir +'/output')\\n    \\n    print(gps_csv, 'END ', str( datetime.now() ))\\n    print('__________________________________________________________________')\\n    \\n\""
      ]
     },
     "execution_count": 3,
     "metadata": {},
     "output_type": "execute_result"
    }
   ],
   "source": [
    "\n",
    "#backup_dir = '/home/bidur/map_match_gps_data/raw_data/phl_sample/csv_4_mobmap/'\n",
    "#input_dir = '/home/bidur/map_match_gps_data/raw_data/phl_sample/clean/'  \n",
    "\n",
    "arr_input_csv = get_all_files_from_dir(input_dir)\n",
    "print(arr_input_csv)\n",
    "for gps_csv in arr_input_csv:\n",
    "    \n",
    "    print(gps_csv, 'START ', str( datetime.now() ))\n",
    " \n",
    "    # 1. remove old data and create necessary directories\n",
    "    initialize()\n",
    "\n",
    "    # 2. ananymize ap_id column to int value ,   clip points within boundary\n",
    "    gdf_probe_clipped, gdf_target = get_points_within_target_region (gps_csv, anonymize=True, display_plot = False)\n",
    "    \n",
    "\n",
    "    # 3. Preprocess: cleaning data & applying sampling\n",
    "    df_sample = preprocess_data()\n",
    "    print('----3 done----')\n",
    "    display(df_sample.head())\n",
    "\n",
    "    # 4. map matching with osm roads using graphhopper\n",
    "    df_mapped_route = map_match_csv2gpx_multithread(df_sample) # multithreaded\n",
    "    \n",
    "    \n",
    "    \n",
    "    #Use this for normal execution without multi thread:\n",
    "    #df_mapped_route = map_match_csv2gpx(df_sample)\n",
    "    print('----4 done----')\n",
    "    \n",
    "        \n",
    "    # 5. save to backup dir\n",
    "    csv_path, csv_name = os.path.split(gps_csv)\n",
    "    final_data_dir = backup_dir+csv_name.replace('.csv','')\n",
    "    print(final_data_dir)\n",
    "    check_dir(final_data_dir)# create subdir for this iteration\n",
    "    \n",
    "    shutil.copytree(INPUT_DIR, final_data_dir +'/input')\n",
    "    shutil.copytree(OUTPUT_DIR, final_data_dir +'/output')\n",
    "    \n",
    "    print(gps_csv, 'END ', str( datetime.now() ))\n",
    "    print('__________________________________________________________________')\n",
    "    \n"
   ]
  },
  {
   "cell_type": "markdown",
   "metadata": {},
   "source": [
    "#### Output summary for a sample inout for 20190703\n",
    "- about 9 hr 30 min \n",
    "- 10% = 525 ap_ids\n",
    "- 411 ap_ids in final output \n"
   ]
  },
  {
   "cell_type": "code",
   "execution_count": 4,
   "metadata": {},
   "outputs": [
    {
     "name": "stdout",
     "output_type": "stream",
     "text": [
      "/home/bidur/map_match_gps_data\r\n"
     ]
    }
   ],
   "source": [
    "!pwd"
   ]
  },
  {
   "cell_type": "code",
   "execution_count": null,
   "metadata": {},
   "outputs": [],
   "source": []
  }
 ],
 "metadata": {
  "kernelspec": {
   "display_name": "Python 3",
   "language": "python",
   "name": "python3"
  },
  "language_info": {
   "codemirror_mode": {
    "name": "ipython",
    "version": 3
   },
   "file_extension": ".py",
   "mimetype": "text/x-python",
   "name": "python",
   "nbconvert_exporter": "python",
   "pygments_lexer": "ipython3",
   "version": "3.6.9"
  }
 },
 "nbformat": 4,
 "nbformat_minor": 4
}
